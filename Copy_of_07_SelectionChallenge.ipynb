{
  "nbformat": 4,
  "nbformat_minor": 0,
  "metadata": {
    "colab": {
      "provenance": [],
      "include_colab_link": true
    },
    "kernelspec": {
      "name": "python3",
      "display_name": "Python 3"
    }
  },
  "cells": [
    {
      "cell_type": "markdown",
      "metadata": {
        "id": "view-in-github",
        "colab_type": "text"
      },
      "source": [
        "<a href=\"https://colab.research.google.com/github/Sousa-Marco/Portfolio/blob/main/Copy_of_07_SelectionChallenge.ipynb\" target=\"_parent\"><img src=\"https://colab.research.google.com/assets/colab-badge.svg\" alt=\"Open In Colab\"/></a>"
      ]
    },
    {
      "cell_type": "markdown",
      "metadata": {
        "id": "-QxAKPD8DZfj"
      },
      "source": [
        "# Three selection challenges\n",
        "\n",
        "---\n"
      ]
    },
    {
      "cell_type": "markdown",
      "metadata": {
        "id": "2KYUALILDcM9"
      },
      "source": [
        "### Challenge 1 - password format  \n",
        "\n",
        "Write a function called **check_password_valid()** which will check the validity of a **password** input by a user.\n",
        "\n",
        "Rules for a valid password are:  \n",
        "\n",
        "*  At least 1 letter between [a-z] and 1 letter between [A-Z].\n",
        "*  At least 1 number between [0-9].\n",
        "*  At least 1 character from [$#@].\n",
        "*  Minimum length 6 characters.\n",
        "*  Maximum length 16 characters.  \n",
        "\n",
        "Let the user know if the `password` they have typed is valid and, if not, where was the first error.\n",
        "\n",
        "*Hint:  to test if a set of characters is present in a password String, you can use re.search('[character set]', `password`)*  \n",
        "\n",
        "Example:   \n",
        "*if re.search('[a-z]',`password`):*    \n",
        "if there is at least 1 character a-z in the password, re.search will not be None.\n",
        "\n",
        "**re** is a pre-written Python function for pattern searching in Strings.  It has been imported for you in the code cell below.  "
      ]
    },
    {
      "cell_type": "code",
      "metadata": {
        "id": "8wBK9IA4BO2e",
        "colab": {
          "base_uri": "https://localhost:8080/"
        },
        "outputId": "209f3d7d-9835-4f1a-8997-b206c882fcd9"
      },
      "source": [
        "import re\n",
        "\n",
        "# add your check_PasswordValid() function and call below here\n",
        "def check_password_valid():\n",
        "\n",
        "  password = input(\"Please enter your password: \");\n",
        "\n",
        "  if re.search('[a-z]', password) == None and re.search('[A-Z]', password) == None:\n",
        "    print(\"Password must contain uppercase and lowercase letters\");\n",
        "  elif re.search('[0-9]', password) == None:\n",
        "    print(\"Password must contain a number between 0 and 9\");\n",
        "  elif re.search('[$#@]', password) == None:\n",
        "    print(\"Password must contain one of these symbols: $, # and @\");\n",
        "  elif len(password) < 6:\n",
        "    print(\"Password must have at least 6 characters\");\n",
        "  elif len(password) > 16:\n",
        "    print(\"Password must have up to 16 characters\");\n",
        "  else:\n",
        "    print(password);\n",
        "\n",
        "\n",
        "check_password_valid();"
      ],
      "execution_count": 9,
      "outputs": [
        {
          "output_type": "stream",
          "name": "stdout",
          "text": [
            "Please enter your password: Pp02$\n",
            "Password must have at least 6 characters\n"
          ]
        }
      ]
    },
    {
      "cell_type": "markdown",
      "metadata": {
        "id": "f0R4GYTEFQS-"
      },
      "source": [
        "---\n",
        "### Challenge 2 - triangle shape  \n",
        "\n",
        "Write a function called **evaluate_triangle_shape()** which will check if a triangle is equilateral, isosceles or scalene, based on the three side lengths entered by a user (**x**, **y** and **z**.\n",
        "\n",
        "An equilateral triangle is a triangle in which all three sides are equal.\n",
        "A scalene triangle is a triangle that has three unequal sides.\n",
        "An isosceles triangle is a triangle with (at least) two equal sides.\n",
        "\n",
        "For example:  \n",
        "A triange with side lengths                                 \n",
        "x: 6                                                                    \n",
        "y: 8                                                                    \n",
        "z: 12                                                                   \n",
        "is a *Scalene triangle*\n",
        "\n",
        "A triangle with side lengths\n",
        "x:5  \n",
        "y:3   \n",
        "z:5  \n",
        "is an *Isosceles triangle*"
      ]
    },
    {
      "cell_type": "code",
      "metadata": {
        "id": "oBgl4ro1DVL0",
        "colab": {
          "base_uri": "https://localhost:8080/"
        },
        "outputId": "8d927587-4f2f-4885-8409-14f4c17c3a72"
      },
      "source": [
        "def evaluate_triangle_shape():\n",
        "\n",
        "  side1 = float(input(\"Please enter first side length: \"));\n",
        "  side2 = float(input(\"Please enter second side length: \"));\n",
        "  side3 = float(input(\"Please enter third side length: \"));\n",
        "\n",
        "  if side1 == side2 and side1 == side3 and side3 == side2:\n",
        "    print(\"The triangle is equilateral!\");\n",
        "  elif side1 != side2 and side1 != side3 and side2 != side3:\n",
        "    print(\"The triangle is scalene!\");\n",
        "  else:\n",
        "    print(\"The triangle is isosceles!\");\n",
        "\n",
        "\n",
        "evaluate_triangle_shape();"
      ],
      "execution_count": 14,
      "outputs": [
        {
          "output_type": "stream",
          "name": "stdout",
          "text": [
            "Please enter first side length: 3\n",
            "Please enter second side length: 2\n",
            "Please enter third side length: 1\n",
            "The triangle is scalene!\n"
          ]
        }
      ]
    },
    {
      "cell_type": "markdown",
      "metadata": {
        "id": "hr2EotkqG33l"
      },
      "source": [
        "---\n",
        "### Challenge 3 - which season\n",
        "\n",
        "Write a function called **determine_season()** which will ask the user to enter two integers representing a **month** and **day** and prints the season for that month and day.\n",
        "\n",
        "Note:  for this exercise the season dates are:\n",
        "*  Winter December 21 to March 20    \n",
        "*  Spring March 21 to June 20  \n",
        "*  Summer June 21 to September 20  \n",
        "*  Autumn September 21 to December 20\n",
        "\n",
        "Test input:  \n",
        "Input the month (e.g. January, February etc.): 7                     \n",
        "Input the day: 31                                                       \n",
        "\n",
        "Expected output:  \n",
        "Season is summer\n",
        "\n",
        "*Note: this will require multiple and or or operators and you should use brackets to help Python know which operations to do first*  \n",
        "\n",
        "*For an extra challenge you can check that the day is valid for the month*"
      ]
    },
    {
      "cell_type": "code",
      "metadata": {
        "id": "cvbfz8nzG4IL",
        "colab": {
          "base_uri": "https://localhost:8080/"
        },
        "outputId": "bdae82b3-49fd-4539-82e7-74f562e4419e"
      },
      "source": [
        "def determine_season():\n",
        "\n",
        "  month = int(input(\"enter a month (number): \"));\n",
        "\n",
        "  day = int(input(\"enter a day (number): \"));\n",
        "\n",
        "  if (month == 12 and day >= 21 and day <= 31) or (month == 1 and day <= 31) or (month == 2 and day <= 28) or (month == 3 and day <= 20):\n",
        "    print(\"Season is Winter!\");\n",
        "  elif (month == 3 and day >= 21 and day <= 31) or (month == 4 and day <=30) or (month == 5 and day <= 31) or (month == 6 and day <= 20):\n",
        "    print(\"Season is Spring!\");\n",
        "  elif (month == 6 and day >= 21 and day <= 30) or (month == 7 and day <= 31) or (month == 8 and day <= 31) or (month == 9 and day <= 20):\n",
        "    print(\"Season is Summer!\");\n",
        "  elif (month == 9 and day >= 21 and day <= 30) or (month == 10 and day <= 30) or (month == 11 and day <= 30) or (month == 12 and day <= 20):\n",
        "    print(\"Season is Autumn!\");\n",
        "  else:\n",
        "    print(\"Data was not recognisable. Please try again!\");\n",
        "    determine_season();\n",
        "\n",
        "\n",
        "determine_season();"
      ],
      "execution_count": 21,
      "outputs": [
        {
          "output_type": "stream",
          "name": "stdout",
          "text": [
            "enter a month (number): 12\n",
            "enter a day (number): 12\n",
            "Season is Autumn!\n"
          ]
        }
      ]
    }
  ]
}