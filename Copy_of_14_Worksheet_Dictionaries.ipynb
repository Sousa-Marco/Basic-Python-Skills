{
  "nbformat": 4,
  "nbformat_minor": 0,
  "metadata": {
    "colab": {
      "provenance": [],
      "include_colab_link": true
    },
    "kernelspec": {
      "name": "python3",
      "display_name": "Python 3"
    },
    "language_info": {
      "name": "python"
    }
  },
  "cells": [
    {
      "cell_type": "markdown",
      "metadata": {
        "id": "view-in-github",
        "colab_type": "text"
      },
      "source": [
        "<a href=\"https://colab.research.google.com/github/Sousa-Marco/Portfolio/blob/main/Copy_of_14_Worksheet_Dictionaries.ipynb\" target=\"_parent\"><img src=\"https://colab.research.google.com/assets/colab-badge.svg\" alt=\"Open In Colab\"/></a>"
      ]
    },
    {
      "cell_type": "markdown",
      "metadata": {
        "id": "AiiF1h2X4PHP"
      },
      "source": [
        "# Dictionaries\n",
        "\n",
        "---\n",
        "\n",
        "A **dictionary** is a collection of dissimilar data stored together in one *record*. Each item of data has a  (or key) that describes its paired value.  \n",
        "\n",
        "Create a dictionary object by declaring the set of keys and values, e.g.:\n",
        "\n",
        "```\n",
        "   transport = {\n",
        "       \"type\":\"bus\",\n",
        "       \"numPassengers\":72,\n",
        "       \"colour\":\"blue\",\n",
        "       \"fuel\":\"diesel\"\n",
        "   }\n",
        "```\n",
        "\n",
        "To access a value in a dictionary, use its key:  \n",
        "\n",
        "```\n",
        "transport[\"type\"] = \"coach\"\n",
        "transport_type = transport[\"type\"]\n",
        "transport_colour = transport[\"colour\"]\n",
        "transport[\"fuel\"] = petrol\n",
        "```\n",
        "\n",
        "To add a new key/value pair to a dictionary, simply assign a value to a new key:  \n",
        "```\n",
        "transport[\"seats\"] = 54\n",
        "```\n",
        "\n",
        "The transport dictionary will now look like this:  \n",
        "```\n",
        "   transport = {\n",
        "       \"type\":\"bus\",\n",
        "       \"numPassengers\":72,\n",
        "       \"colour\":\"blue\",\n",
        "       \"fuel\":\"diesel\",\n",
        "       \"seats\":54\n",
        "   }\n",
        "```\n",
        "\n"
      ]
    },
    {
      "cell_type": "markdown",
      "metadata": {
        "id": "1uZ5kNWB6CqK"
      },
      "source": [
        "---\n",
        "### Exercise 1 - print dictionary\n",
        "\n",
        "Write a function which will:  \n",
        "\n",
        "*  create an empty dictionary for a person (name, age and postcode, with values \"\", 0 and \"\")\n",
        "*  ask the user for name, age and postcode and assign the values to the correct keys in the dictionary  \n",
        "*  print the dictionary\n",
        "\n",
        "Test input:  \n",
        "Jack Jones  \n",
        "16  \n",
        "AB5 3DF  \n",
        "\n",
        "Expected output:  \n",
        "```{'name':'Jack Jones', 'age':16, 'postcode':'AB5 3DF'}```"
      ]
    },
    {
      "cell_type": "code",
      "metadata": {
        "id": "Ac7VQTj94Mrc",
        "colab": {
          "base_uri": "https://localhost:8080/"
        },
        "outputId": "107571e7-fef1-43d0-993a-483154c0b882"
      },
      "source": [
        "def print_dictionary():\n",
        "\n",
        "  personal_details = {\n",
        "      \"name\":\"\",\n",
        "      \"age\":0,\n",
        "      \"postcode\":\"\"\n",
        "  }\n",
        "\n",
        "  name = input(\"please enter your name: \");\n",
        "  age = int(input(\"please enter your age: \"));\n",
        "  postcode = input(\"please enter your post code: \");\n",
        "\n",
        "  personal_details[\"name\"] = name;\n",
        "  personal_details[\"age\"] = age;\n",
        "  personal_details[\"postcode\"] = postcode;\n",
        "\n",
        "  print(personal_details);\n",
        "\n",
        "\n",
        "print_dictionary();"
      ],
      "execution_count": null,
      "outputs": [
        {
          "output_type": "stream",
          "name": "stdout",
          "text": [
            "please enter your name: Jack Jones\n",
            "please enter your age: 16\n",
            "please enter your post code: AB5 3DF\n",
            "{'name': 'Jack Jones', 'age': 16, 'postcode': 'AB5 3DF'}\n"
          ]
        }
      ]
    },
    {
      "cell_type": "markdown",
      "metadata": {
        "id": "0OtNqNKv7WKm"
      },
      "source": [
        "---\n",
        "### Exercise 2 - create a dictionary\n",
        "\n",
        "Write a function that will create two dictionaries,without values:  \n",
        "\n",
        "1.  person (with keys firstname, surname, birthdate, postcode)  \n",
        "2.  car (with key/value pairs as follows:  make - Vauxhall, model - Corsa, engineSize - 1199, fuelType - unleaded, num_doors - 4)  \n",
        "\n",
        "*   ask the user to enter the values for the person dictionary  \n",
        "*   print, on one line, the person's name from the person dictionary and the make of the car from the car dictionary.\n",
        "\n",
        "Test input:  \n",
        "Jack  \n",
        "Jones  \n",
        "2005/02/02    \n",
        "AB5 3DF  \n",
        "\n",
        "Expected output:  \n",
        "Jack Jones Vauxhall"
      ]
    },
    {
      "cell_type": "code",
      "metadata": {
        "id": "ZyqhaBCC-GdI",
        "colab": {
          "base_uri": "https://localhost:8080/"
        },
        "outputId": "2e5307fb-4253-4414-a770-2dbd16b45593"
      },
      "source": [
        "def create_dictionary():\n",
        "\n",
        "  person = {\n",
        "      \"firstname\":\"\",\n",
        "      \"surname\":\"\",\n",
        "      \"birthday\":0,\n",
        "      \"postcode\":\"\"\n",
        "  }\n",
        "\n",
        "  car = {\n",
        "      \"make\":\"Vauxhall\",\n",
        "      \"model\":\"Corsa\",\n",
        "      \"engineSize\":1199,\n",
        "      \"fuelType\":\"unleaded\",\n",
        "      \"num_doors\":4\n",
        "  }\n",
        "\n",
        "\n",
        "  firstName = input(\"Please enter your first name: \");\n",
        "  surname = input(\"Please enter your surname: \");\n",
        "  birthday = input(\"Please enter your birthday: \");\n",
        "  postcode = input(\"Please enter your postcode: \");\n",
        "\n",
        "  person[\"firstname\"] = firstName;\n",
        "  person[\"surname\"] = surname;\n",
        "  person[\"birthday\"] = birthday;\n",
        "  person[\"postcode\"] = postcode;\n",
        "\n",
        "  print(person[\"firstname\"], person[\"surname\"], car[\"make\"]);\n",
        "\n",
        "create_dictionary();"
      ],
      "execution_count": null,
      "outputs": [
        {
          "output_type": "stream",
          "name": "stdout",
          "text": [
            "Please enter your first name: Jack\n",
            "Please enter your surname: Jones\n",
            "Please enter your birthday: 2005/02/02\n",
            "Please enter your postcode: AB5 3DF\n",
            "Jack Jones Vauxhall\n"
          ]
        }
      ]
    },
    {
      "cell_type": "markdown",
      "metadata": {
        "id": "gYuuOUYw-G4I"
      },
      "source": [
        "---\n",
        "### Exercise 3 - check dictionary values\n",
        "\n",
        "Write a new function which will:\n",
        "\n",
        "*  set up the same two dictionaries as in Exercise 2  \n",
        "*  ask the user to enter the details to complete the person record  \n",
        "*  calculate the person's age  \n",
        "*  if the person is under 17 then print a message to say that they can't buy a car as they are too young to drive\n",
        "*  else if the person is under 25 then print a message to say that an engine size under 1200 is recommended  \n",
        "*  ask the user to enter the make of car that the person is looking for  \n",
        "*  if the user enters the same make as that stored in the car record, then print a message to say that you have one car of that make in stock and print all the details of the car that you have the record for\n",
        "*  else (if the user enters any other car make) then print a message to say sorry that you don't have any cars of that make in stock\n",
        "*  print a message to say that the user can get more details for stockist in the <user's postcode> area if they call 01234567890\n",
        "*  print a message to say \"Thank you <user's name> for using our site\"  \n",
        "\n",
        "Test input:  \n",
        "Jack  \n",
        "Jones  \n",
        "2005/02/02  \n",
        "AB5 3DF  \n",
        "Vauxhall  \n",
        "\n",
        "Expected output:  \n",
        "You are too young to drive\n",
        "\n",
        "Test input:  \n",
        "John  \n",
        "Jones  \n",
        "2003/02/02  \n",
        "AB5 3DF  \n",
        "Vauxhall\n",
        "\n",
        "Expected output:  \n",
        "An engine size under 1200 is recommended  \n",
        "We have one Vauxhall in stock, details:  \n",
        "Make - Vauxhall    \n",
        "Model - Corsa    \n",
        "Engine size - 1199  \n",
        "Fuel type - unleaded   \n",
        "Number of doors - 4  \n",
        "You can get more details of stockists near AB5 3DF on 01234567890  \n",
        "Thank you John Jones for using our site.     \n",
        "\n",
        "Test input:  \n",
        "John  \n",
        "Jones  \n",
        "2003/02/02  \n",
        "AB5 3DF  \n",
        "Ford  \n",
        "\n",
        "Expected output:  \n",
        "An engine size under 1200 is recommended  \n",
        "Sorry, we don't have any of that make in stock  \n"
      ]
    },
    {
      "cell_type": "code",
      "metadata": {
        "id": "Wp9Il2JG_hDh",
        "colab": {
          "base_uri": "https://localhost:8080/"
        },
        "outputId": "c4895444-3964-44f5-d328-1e8128063f9b"
      },
      "source": [
        "from datetime import date\n",
        "\n",
        "def check_dictionary():\n",
        "\n",
        "  person = {\n",
        "      \"firstname\":\"\",\n",
        "      \"surname\":\"\",\n",
        "      \"birthday\":0,\n",
        "      \"postcode\":\"\"\n",
        "  }\n",
        "\n",
        "  car = {\n",
        "      \"make\":\"Vauxhall\",\n",
        "      \"model\":\"Corsa\",\n",
        "      \"engineSize\":1199,\n",
        "      \"fuelType\":\"unleaded\",\n",
        "      \"num_doors\":4\n",
        "  }\n",
        "\n",
        "\n",
        "  firstName = input(\"Please enter your first name: \");\n",
        "  surname = input(\"Please enter your surname: \");\n",
        "  birthday = input(\"Please enter your birthday: \");\n",
        "  postcode = input(\"Please enter your postcode: \");\n",
        "\n",
        "  person[\"firstname\"] = firstName;\n",
        "  person[\"surname\"] = surname;\n",
        "  person[\"birthday\"] = birthday;\n",
        "  person[\"postcode\"] = postcode;\n",
        "\n",
        "  birth_day = int(birthday.split(\"/\")[2]);\n",
        "  birth_month = int(birthday.split(\"/\")[1]);\n",
        "  birth_year = int(birthday.split(\"/\")[0]);\n",
        "\n",
        "  today = date.today();\n",
        "\n",
        "  age = today.year - birth_year - ((today.month, today.day) < (birth_month, birth_day));\n",
        "\n",
        "  if age < 17:\n",
        "    print(\"You can't buy a car as you are too young to drive!\");\n",
        "  elif age < 25:\n",
        "    print(\"An engine size under 1200 is recommended!\");\n",
        "\n",
        "  make_question = input(\"What is the make you're looking for? \");\n",
        "\n",
        "  if make_question == car[\"make\"]:\n",
        "    print(\"We have 1 car of that make in stock.\");\n",
        "\n",
        "    print(car);\n",
        "  else:\n",
        "    print(\"Sorry, we don't have any cars of that make in stock.\");\n",
        "\n",
        "  print(\"you can get more details for stockist in \", person[\"postcode\"], \"area if you call 01234567890\\n Thank you \", person[\"firstname\"], \"for using our website!\");\n",
        "\n",
        "\n",
        "check_dictionary();"
      ],
      "execution_count": 2,
      "outputs": [
        {
          "output_type": "stream",
          "name": "stdout",
          "text": [
            "Please enter your first name: Jack\n",
            "Please enter your surname: Jones\n",
            "Please enter your birthday: 2005/02/02\n",
            "Please enter your postcode: AB5 3DF\n",
            "An engine size under 1200 is recommended!\n",
            "What is the make you're looking for? Vauxhall\n",
            "We have 1 car of that make in stock.\n",
            "{'make': 'Vauxhall', 'model': 'Corsa', 'engineSize': 1199, 'fuelType': 'unleaded', 'num_doors': 4}\n",
            "you can get more details for stockist in  AB5 3DF area if you call 01234567890\n",
            " Thank you  Jack for using our website!\n"
          ]
        }
      ]
    },
    {
      "cell_type": "markdown",
      "metadata": {
        "id": "I6dUiRwn7Gkg"
      },
      "source": [
        "---\n",
        "### Exercise 4 - print keys and values\n",
        "\n",
        "Two dictionaries have been created below.  You can print a list of the dictionary's keys using `dictionary_name.keys()` and the values using `dictionary_name.values()`\n",
        "\n",
        "Write a function which will accept a dictionary as a parameter and will:  \n",
        "*  print the dictionary keys as a list   \n",
        "*  print the dictionary values as a list  \n",
        "\n",
        "*Hint*:  you will need to cast the keys as a list (`list(dictionary_name.keys()`)  and do the same for the values.\n",
        "\n",
        "**Expected Output**\n",
        "\n",
        "Input: English  \n",
        "Output:\n",
        "['Andy', 'Angela']  \n",
        "[95, 53]  \n",
        "\n",
        "Input: Maths  \n",
        "Output:  \n",
        "['Andy', 'Angela']  \n",
        "[58, 72]\n",
        "\n",
        "\n",
        "\n"
      ]
    },
    {
      "cell_type": "code",
      "metadata": {
        "id": "FApOckhJEsMs",
        "colab": {
          "base_uri": "https://localhost:8080/"
        },
        "outputId": "747dfbb9-e47d-4392-f86b-86089f3ca01f"
      },
      "source": [
        "def display_dictionary(scores):\n",
        "  #  add your code below this line\n",
        "\n",
        "  print(list(scores.keys()), \"\\n\", list(scores.values()));\n",
        "\n",
        "\n",
        "english_scores = {'Andy': 95, 'Angela': 53}\n",
        "maths_scores = {'Andy': 58, 'Angela': 72}\n",
        "display_dictionary(english_scores)\n",
        "display_dictionary(maths_scores)"
      ],
      "execution_count": 6,
      "outputs": [
        {
          "output_type": "stream",
          "name": "stdout",
          "text": [
            "['Andy', 'Angela'] \n",
            " [95, 53]\n",
            "['Andy', 'Angela'] \n",
            " [58, 72]\n"
          ]
        }
      ]
    },
    {
      "cell_type": "markdown",
      "metadata": {
        "id": "segSpkmBFSJl"
      },
      "source": [
        "---\n",
        "### Exercise 5 - add field\n",
        "\n",
        "Write a function which will:\n",
        "\n",
        "*  create a new dictionary called **science_scores** with values of 0 for both Andy and Angela\n",
        "*  update Andy's score for science to 73 and Angela's score to 73   \n",
        "*  create a new key/value pair by adding another learner to the `science_scores`  dictionary (George has a score of 55)    \n",
        "*  print the `science_scores` dictionary to check results  \n",
        "\n",
        "Expected Output\n",
        "\n",
        "{'Andy': 73, 'Angela': 73, 'George': 55}"
      ]
    },
    {
      "cell_type": "code",
      "metadata": {
        "id": "BL1JM-Z7Gttf",
        "colab": {
          "base_uri": "https://localhost:8080/"
        },
        "outputId": "42450bb0-effd-4018-b63f-f63e6684e89f"
      },
      "source": [
        "science_scores = {\"Andy\":0, \"Angela\":0}\n",
        "\n",
        "science_scores[\"Andy\"] = 73;\n",
        "\n",
        "science_scores[\"Angela\"] = 73;\n",
        "\n",
        "science_scores[\"George\"] = 55;\n",
        "\n",
        "print(science_scores);"
      ],
      "execution_count": 7,
      "outputs": [
        {
          "output_type": "stream",
          "name": "stdout",
          "text": [
            "{'Andy': 73, 'Angela': 73, 'George': 55}\n"
          ]
        }
      ]
    },
    {
      "cell_type": "markdown",
      "metadata": {
        "id": "_Vzv0zlHGt-C"
      },
      "source": [
        "---\n",
        "### Exercise 6 - loop through keys/value pairs\n",
        "\n",
        "Write a function which will use a *for* loop to print the each key/value pair in the science dictionary (recreate this dictionary in this function)\n",
        "\n",
        "*(Hint: you can iterate through the key/value pairs in the dictionary in the same way as you iterate through a loop (e.g. for record in dictionary) and print the record (which is the key) and its value)*\n",
        "\n",
        "Expected output:  \n",
        "\n",
        "Angela 72  \n",
        "Andy 72  \n",
        "George 55  "
      ]
    },
    {
      "cell_type": "code",
      "metadata": {
        "id": "JL40_-W-Hxnt",
        "colab": {
          "base_uri": "https://localhost:8080/"
        },
        "outputId": "484d3fd0-0043-4a20-f7d6-a86593bce304"
      },
      "source": [
        "def recreate_dictionary():\n",
        "\n",
        "  for i, a in science_scores.items():\n",
        "\n",
        "    print(i, a);\n",
        "\n",
        "\n",
        "\n",
        "recreate_dictionary();"
      ],
      "execution_count": 13,
      "outputs": [
        {
          "output_type": "stream",
          "name": "stdout",
          "text": [
            "Andy 73\n",
            "Angela 73\n",
            "George 55\n"
          ]
        }
      ]
    },
    {
      "cell_type": "markdown",
      "metadata": {
        "id": "G9wamxzRJdrE"
      },
      "source": [
        "---\n",
        "### Exercise 7 - generate new dictionary  \n",
        "\n",
        "Write a functions which will:\n",
        "*  create a new dictionary where the keys are numbers between 1 and 15 (both included) and the values are square of keys\n",
        "*  print the dictionary\n",
        "\n",
        "Expected output:  \n",
        "{1: 1, 2: 4, 3: 9, 4: 16, 5: 25, 6: 36, 7: 49, 8: 64, 9: 81, 10: 100, 11: 121, 12: 144, 13: 169, 14: 196, 15: 225}"
      ]
    },
    {
      "cell_type": "code",
      "metadata": {
        "id": "1-LI-LVrJ--N",
        "colab": {
          "base_uri": "https://localhost:8080/"
        },
        "outputId": "6d14cf6b-a805-43c7-f71d-632f79bcf6b4"
      },
      "source": [
        "def creating_dictionary():\n",
        "\n",
        "  dictionary_exp = {};\n",
        "\n",
        "  for i in range(1, 16):\n",
        "\n",
        "    dictionary_exp[i] = i**2\n",
        "\n",
        "  print(dictionary_exp);\n",
        "\n",
        "creating_dictionary();"
      ],
      "execution_count": 16,
      "outputs": [
        {
          "output_type": "stream",
          "name": "stdout",
          "text": [
            "{1: 1, 2: 4, 3: 9, 4: 16, 5: 25, 6: 36, 7: 49, 8: 64, 9: 81, 10: 100, 11: 121, 12: 144, 13: 169, 14: 196, 15: 225}\n"
          ]
        }
      ]
    },
    {
      "cell_type": "markdown",
      "metadata": {
        "id": "t0y4mefwJ_jQ"
      },
      "source": [
        "---\n",
        "### Exercise 8 - colour dictionary  \n",
        "\n",
        "Write a function which will:  \n",
        "*  create a new dictionary record called colour_codes with the values 'red' - '#FF0000', 'green' - '#008000', 'black' - '#000000', 'white' - '#FFFFFF'\n",
        "*  add a new colour code:  'blue' - '#0000FF'    \n",
        "*  remove the colours black and white from the dictionary  \n",
        "\n",
        "*Hint:  there is a list of methods [here](https://www.w3schools.com/python/python_ref_dictionary.asp)*  "
      ]
    },
    {
      "cell_type": "code",
      "metadata": {
        "id": "yod1mUNOMeWg",
        "colab": {
          "base_uri": "https://localhost:8080/"
        },
        "outputId": "6d7dd397-f073-4a92-9e6a-9b7dc25a1829"
      },
      "source": [
        "def dictionary_creation():\n",
        "\n",
        "  colour_codes = {\"red\":\"#FF0000\", \"green\":\"#008000\", \"black\":\"#000000\", \"white\":\"#FFFFFF\"};\n",
        "\n",
        "  colour_codes[\"blue\"] = \"#0000FF\";\n",
        "\n",
        "  colour_codes.pop(\"black\");\n",
        "\n",
        "  colour_codes.pop(\"white\");\n",
        "\n",
        "dictionary_creation();"
      ],
      "execution_count": 17,
      "outputs": [
        {
          "output_type": "stream",
          "name": "stdout",
          "text": [
            "{'red': '#FF0000', 'green': '#008000', 'blue': '#0000FF'}\n"
          ]
        }
      ]
    },
    {
      "cell_type": "markdown",
      "metadata": {
        "id": "gjos_0vuMeyS"
      },
      "source": [
        "---\n",
        "### Exercise 9 - item tuples  \n",
        "\n",
        "Write a function which will:  \n",
        "*  create a new dictionary containing the colour codes for red, green, blue, black and white\n",
        "*  print the key/value pairs of a dictionary as a list of tuples  \n",
        "\n",
        "*Hint:  iterate through colours.items()*"
      ]
    },
    {
      "cell_type": "code",
      "metadata": {
        "id": "EzuMkUypOKTY",
        "colab": {
          "base_uri": "https://localhost:8080/"
        },
        "outputId": "be60be5f-5857-4b43-dc1c-dd843625b8ad"
      },
      "source": [
        "from re import I\n",
        "def item_tuples():\n",
        "\n",
        "  colour_codes = {\"red\":\"#FF0000\", \"green\":\"#008000\", \"black\":\"#000000\", \"white\":\"#FFFFFF\", \"blue\":\"#0000FF\"};\n",
        "\n",
        "  key_values_tuples = [];\n",
        "\n",
        "  for i, a in colour_codes.items():\n",
        "\n",
        "    key_values_tuples.append(i);\n",
        "\n",
        "    key_values_tuples.append(a);\n",
        "\n",
        "    print(i, a);\n",
        "\n",
        "\n",
        "item_tuples();"
      ],
      "execution_count": 27,
      "outputs": [
        {
          "output_type": "stream",
          "name": "stdout",
          "text": [
            "red #FF0000\n",
            "green #008000\n",
            "black #000000\n",
            "white #FFFFFF\n",
            "blue #0000FF\n"
          ]
        }
      ]
    },
    {
      "cell_type": "markdown",
      "metadata": {
        "id": "Jw1ot10cOc6r"
      },
      "source": [
        "---\n",
        "### Exercise 10 - check if empty\n",
        "Taken from w3resouce.com  \n",
        "\n",
        "Write a function which will check if a dictionary is empty or not\n",
        "\n",
        "*Hint:  you can use bool(dictionary_name), if the dictionary is empty then bool(dictionary_name will be false)*\n",
        "\n",
        "Test 1 sample data:\n",
        "{}\n",
        "\n",
        "Expected output:\n",
        "Dictionary is empty  \n",
        "\n",
        "Test 2 sample data:  \n",
        "{\"name\":\"Groucho\", \"occupation\":\"comedian\"}\n",
        "\n",
        "Expected output:  \n",
        "Dictionary is not empty"
      ]
    },
    {
      "cell_type": "code",
      "metadata": {
        "id": "7UdM1TfwRqnt",
        "colab": {
          "base_uri": "https://localhost:8080/"
        },
        "outputId": "df4c61fc-d92e-450a-cdaf-bf0a7e62f068"
      },
      "source": [
        "def check_if_empty():\n",
        "\n",
        "  check_dic = {\"name\":\"Groucho\", \"occupation\":\"comedian\"};\n",
        "\n",
        "  if check_dic:\n",
        "    print(\"Dictionary is not empty\");\n",
        "  else:\n",
        "    print(\"Dictionary is empty\");\n",
        "\n",
        "\n",
        "\n",
        "check_if_empty();"
      ],
      "execution_count": 32,
      "outputs": [
        {
          "output_type": "stream",
          "name": "stdout",
          "text": [
            "Dictionary is not empty\n"
          ]
        }
      ]
    }
  ]
}