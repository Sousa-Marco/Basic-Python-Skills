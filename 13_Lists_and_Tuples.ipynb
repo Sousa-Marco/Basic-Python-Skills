{
  "nbformat": 4,
  "nbformat_minor": 0,
  "metadata": {
    "colab": {
      "provenance": [],
      "include_colab_link": true
    },
    "kernelspec": {
      "name": "python3",
      "display_name": "Python 3"
    },
    "language_info": {
      "name": "python"
    }
  },
  "cells": [
    {
      "cell_type": "markdown",
      "metadata": {
        "id": "view-in-github",
        "colab_type": "text"
      },
      "source": [
        "<a href=\"https://colab.research.google.com/github/Sousa-Marco/Portfolio/blob/main/Copy_of_13_Lists_and_Tuples.ipynb\" target=\"_parent\"><img src=\"https://colab.research.google.com/assets/colab-badge.svg\" alt=\"Open In Colab\"/></a>"
      ]
    },
    {
      "cell_type": "markdown",
      "metadata": {
        "id": "Z-M-RCWATK71"
      },
      "source": [
        "# Lists and tuples\n",
        "\n",
        "Often we need to store a number of single items of data together so that they can be processed together. This might be because all the data refers to one person (e.g. name, age, gender, etc) OR it might be because we have a set of data (e.g. all the items that should be displayed in a drop down list, such as all the years from this year back to 100 years ago so that someone can select their year of birth)\n",
        "\n",
        "Python has a range of data structures available including:\n",
        "*   lists  \n",
        "*   tuples  \n",
        "*   dictionaries  \n",
        "*   sets\n",
        "\n",
        "This worksheet looks at lists and tuples.\n",
        "\n",
        "## List\n",
        "A list is a set of related, individual data objects, that are indexed and can be processed as a whole, as subsets or as individual items.  Lists are stored, essentially, as contiguous items in memory so that access can be as quick as possible.  However, they are mutable (they can be changed after they are created and stored) and so those mechanisms need to include extra functionality to deal with changing list sizes.\n",
        "\n",
        "## Tuple\n",
        "Essentially the same as a list but it is immutable.  Once it has been created it can't be changed.  It is stored in memory as contiguous items, with the size required being fixed right from the start.  This makes it faster to access.\n",
        "\n",
        "The code below will create two lists and a tuple.\n",
        "*   the first list contains 1000 random numbers between 1 and 100\n",
        "*   the second list is of random length (up to 5000) and each item is one of the 9 characteristics that are protected under the Equality Act in the UK.\n",
        "*   the tuple contains the 9 protected characteristics\n",
        "\n",
        "Before you start the exercises, run the code below.  It will generate the lists and tuple so that you can use them in the exercises.  If you need to recreate the lists again (because you have changed them and need to work on the originals, just run this cell again).\n",
        "\n",
        "***Note:***  *a list variable contains a reference to the start of the list in memory, rather than storing the list itself.  This means that if you assign the list to another variable (to make a copy), it will only copy across the reference.  If you change the copy, you change the original list.*\n",
        "\n",
        "*If you need to make a copy of the list you will need to use a loop to create a new list and copy all items across.*"
      ]
    },
    {
      "cell_type": "code",
      "metadata": {
        "id": "BDRckXeQXFMT"
      },
      "source": [
        "from random import randint, choice\n",
        "\n",
        "def get_num_list():\n",
        "  num_list = [randint(1,100) for n in range(1000)]\n",
        "  return num_list\n",
        "\n",
        "def get_protected_characteristics():\n",
        "  characteristics_tuple = ('age','disability','gender reassignment','marriage and civil partnership','pregnancy and maternity','race','religion or belief','sex','sexual orientation')\n",
        "  return characteristics_tuple\n",
        "\n",
        "def get_protected_characteristic_list(protected_characteristics):\n",
        "  char_list = [choice(protected_characteristics) for ch in range(randint(1,5000))]\n",
        "  return char_list\n",
        "\n",
        "nums = get_num_list()\n",
        "protected_characteristics = get_protected_characteristics()\n",
        "characteristics = get_protected_characteristic_list(protected_characteristics)"
      ],
      "execution_count": 1,
      "outputs": []
    },
    {
      "cell_type": "markdown",
      "metadata": {
        "id": "xXT38-4ZV45n"
      },
      "source": [
        "## The exercises below will use the lists:  \n",
        "*   **nums** (a list of between 1 and 1000 random numbers, each number is between 0 and 1000)\n",
        "*   **characteristics** (a list of 5000 random protected_characteristics)\n",
        "\n",
        "and the tuple:\n",
        "*  **protected_characteristics** (a set of the 9 protected characteristics identified in the Equality Act)\n",
        "\n",
        "## You can run the cell above any number of times to generate new lists."
      ]
    },
    {
      "cell_type": "markdown",
      "metadata": {
        "id": "Ft0dXl7fUuaK"
      },
      "source": [
        "---\n",
        "### Exercise 1 - list head, tail and shape\n",
        "\n",
        "Write a function, **describe_list()** which will:\n",
        "*  print the length of the list `nums`\n",
        "*  print the first 10 items in `nums`  \n",
        "*  print the last 5 items in `nums`"
      ]
    },
    {
      "cell_type": "code",
      "metadata": {
        "id": "jUcZD7mmTJdA",
        "colab": {
          "base_uri": "https://localhost:8080/"
        },
        "outputId": "6587744b-d66f-455b-9af3-11370fb7c038"
      },
      "source": [
        "def describe_list():\n",
        "\n",
        "  print(len(get_num_list()));\n",
        "\n",
        "  print(nums[1:11]);\n",
        "\n",
        "  print(nums[-1000:-994])\n",
        "\n",
        "\n",
        "describe_list();"
      ],
      "execution_count": null,
      "outputs": [
        {
          "output_type": "stream",
          "name": "stdout",
          "text": [
            "1000\n",
            "[40, 40, 59, 93, 75, 7, 52, 8, 57, 29]\n",
            "[22, 40, 40, 59, 93, 75]\n"
          ]
        }
      ]
    },
    {
      "cell_type": "markdown",
      "metadata": {
        "id": "yNWg08k6bXv0"
      },
      "source": [
        "---\n",
        "### Exercise 2 - show tuple items\n",
        "\n",
        "Write a function which will:\n",
        "*   use a loop to print the list of protected characteristics from the `protected_characteristics` tuple.\n"
      ]
    },
    {
      "cell_type": "code",
      "metadata": {
        "id": "P2HnCG9pb1BS",
        "colab": {
          "base_uri": "https://localhost:8080/"
        },
        "outputId": "33e08cf0-7a0b-452e-82b9-ef5892f49dad"
      },
      "source": [
        "def print_the_damn_list_form_the_tuple():\n",
        "\n",
        "  for i in range(len(protected_characteristics)):\n",
        "\n",
        "    print(protected_characteristics[i]);\n",
        "\n",
        "print_the_damn_list_form_the_tuple();"
      ],
      "execution_count": null,
      "outputs": [
        {
          "output_type": "stream",
          "name": "stdout",
          "text": [
            "age\n",
            "disability\n",
            "gender reassignment\n",
            "marriage and civil partnership\n",
            "pregnancy and maternity\n",
            "race\n",
            "religion or belief\n",
            "sex\n",
            "sexual orientation\n"
          ]
        }
      ]
    },
    {
      "cell_type": "markdown",
      "metadata": {
        "id": "RTSuQZs4b1JU"
      },
      "source": [
        "---\n",
        "### Exercise 3 - list a random subset\n",
        "\n",
        "Write a function which will:\n",
        "*  calculate the position of the middle item in the `characteristics` list   \n",
        "(*Hint: use len() to help with this*)\n",
        "*  calculate the position of the item that is 5 places before the middle item\n",
        "*  calculate the position of the item that is 5 places after the middle item\n",
        "*  print the part of the list that includes the items from 5 places before to 5 places after.  \n",
        "\n",
        "Expected output:  \n",
        "Your list will include 11 items."
      ]
    },
    {
      "cell_type": "code",
      "metadata": {
        "id": "OwhFnH2kdC11",
        "colab": {
          "base_uri": "https://localhost:8080/"
        },
        "outputId": "6be9c05d-db89-4a8a-f3f9-0cde233183ec"
      },
      "source": [
        "def Finding_the_position():\n",
        "\n",
        "  #absolut middle\n",
        "  middle_item = len(characteristics) // 2;\n",
        "\n",
        "  #absolut middle minus 5 positions\n",
        "  middle_item_minus_5 = middle_item - 5;\n",
        "\n",
        "  #absolut middle plus 5 positions\n",
        "  middle_item_plus_5 = middle_item + 5;\n",
        "\n",
        "  for quim in range(middle_item_minus_5, middle_item_plus_5 + 1):\n",
        "\n",
        "    print(characteristics[quim]);\n",
        "\n",
        "\n",
        "Finding_the_position();"
      ],
      "execution_count": null,
      "outputs": [
        {
          "output_type": "stream",
          "name": "stdout",
          "text": [
            "religion or belief\n",
            "disability\n",
            "religion or belief\n",
            "age\n",
            "pregnancy and maternity\n",
            "sexual orientation\n",
            "religion or belief\n",
            "marriage and civil partnership\n",
            "sexual orientation\n",
            "disability\n",
            "pregnancy and maternity\n"
          ]
        }
      ]
    },
    {
      "cell_type": "markdown",
      "metadata": {
        "id": "KS0x3oFNePI9"
      },
      "source": [
        "---\n",
        "### Exercise 4 - create a copy\n",
        "\n",
        "Write a function which will: use a for loop to create a copy of the `nums` list:\n",
        "\n",
        "*   create a new, empty, list called **new_nums**  (*Hint: an empty list is [ ]*)\n",
        "*   use a for loop which uses the following syntax:  `for num in nums:`\n",
        "*   each time round the loop append `num` to `new_nums`  ( *`new_nums.append(num)`*)\n",
        "*   print the first 10 items of `new_nums`\n",
        "*   print the first 10 items of `nums`\n",
        "*   print the length of both lists"
      ]
    },
    {
      "cell_type": "code",
      "metadata": {
        "id": "mpK1Ip3we-uC",
        "colab": {
          "base_uri": "https://localhost:8080/"
        },
        "outputId": "3e5e0c8f-bbfd-4903-c8a7-42e688ceafa8"
      },
      "source": [
        "def copy_nums_list():\n",
        "\n",
        "  new_nums = [];\n",
        "\n",
        "  for quim in nums:\n",
        "\n",
        "    new_nums.append(quim);\n",
        "\n",
        "  print(new_nums[:10]);\n",
        "\n",
        "  print(nums[:10]);\n",
        "\n",
        "  print(len(nums));\n",
        "\n",
        "  print(len(new_nums));\n",
        "\n",
        "\n",
        "copy_nums_list();"
      ],
      "execution_count": null,
      "outputs": [
        {
          "output_type": "stream",
          "name": "stdout",
          "text": [
            "[22, 40, 40, 59, 93, 75, 7, 52, 8, 57]\n",
            "[22, 40, 40, 59, 93, 75, 7, 52, 8, 57]\n",
            "1000\n",
            "1000\n"
          ]
        }
      ]
    },
    {
      "cell_type": "markdown",
      "metadata": {
        "id": "deUIFWjRe-3G"
      },
      "source": [
        "\n",
        "\n",
        "```\n",
        "# This is formatted as code\n",
        "```\n",
        "\n",
        "---\n",
        "### Exercise 5 - count the occurrence of age in characteristics\n",
        "\n",
        "Write a function which will use the list method:\n",
        "\n",
        "`num_items = list_name.count(item)`\n",
        "\n",
        "to count the number of occurrences of 'age' in the `characteristics` list.  Print the result."
      ]
    },
    {
      "cell_type": "code",
      "metadata": {
        "id": "b9TrHQ9hfoIU",
        "colab": {
          "base_uri": "https://localhost:8080/"
        },
        "outputId": "c6572783-c913-485a-93c6-66130241d82a"
      },
      "source": [
        "def count_occurrences():\n",
        "\n",
        "  num_items = characteristics.count(\"age\");\n",
        "\n",
        "  print(num_items);\n",
        "\n",
        "count_occurrences();"
      ],
      "execution_count": null,
      "outputs": [
        {
          "output_type": "stream",
          "name": "stdout",
          "text": [
            "597\n"
          ]
        }
      ]
    },
    {
      "cell_type": "markdown",
      "metadata": {
        "id": "zm2VI5RmfoSy"
      },
      "source": [
        "---\n",
        "### Exercise 6 - sort the nums list\n",
        "\n",
        "Write a function which will:\n",
        "*   call the function `get_num_list()` and store the result in a new list called **sort_nums**\n",
        "*   print the first, and last, 20 items in the `sort_nums` list\n",
        "*   use the `list_name.sort()` method to sort the `sort_nums` list into ascending order\n",
        "*   print the first, and last, 20 items again  \n",
        "*   use the `list_name.sort()` method again to sort the `sort_nums` list into descending order\n",
        "*   print the first, and last, 20 items again"
      ]
    },
    {
      "cell_type": "code",
      "metadata": {
        "id": "Fksgpj9JgWDs",
        "colab": {
          "base_uri": "https://localhost:8080/"
        },
        "outputId": "20b9e0ec-5daf-4247-ce2a-1b72602811cd"
      },
      "source": [
        "def sort_lists():\n",
        "\n",
        "  sort_nums = [];\n",
        "\n",
        "  for i in get_num_list():\n",
        "\n",
        "    sort_nums.append(i);\n",
        "\n",
        "  print(sort_nums[:20]);\n",
        "\n",
        "  print(sort_nums[-20:]);\n",
        "\n",
        "  sort_nums.sort();\n",
        "\n",
        "  print(sort_nums[:20]);\n",
        "\n",
        "  print(sort_nums[-20:]);\n",
        "\n",
        "  sort_nums.sort(reverse = True);\n",
        "\n",
        "  print(sort_nums[:20]);\n",
        "\n",
        "  print(sort_nums[-20:]);\n",
        "\n",
        "sort_lists();"
      ],
      "execution_count": 2,
      "outputs": [
        {
          "output_type": "stream",
          "name": "stdout",
          "text": [
            "[55, 25, 28, 64, 40, 83, 97, 55, 68, 37, 65, 92, 22, 47, 25, 2, 88, 91, 33, 38]\n",
            "[70, 16, 37, 38, 16, 71, 30, 16, 54, 80, 34, 41, 23, 3, 35, 77, 35, 77, 55, 39]\n",
            "[1, 1, 1, 1, 1, 1, 1, 1, 1, 1, 1, 1, 1, 1, 2, 2, 2, 2, 2, 2]\n",
            "[97, 97, 97, 98, 98, 98, 99, 99, 99, 99, 99, 99, 99, 100, 100, 100, 100, 100, 100, 100]\n",
            "[100, 100, 100, 100, 100, 100, 100, 99, 99, 99, 99, 99, 99, 99, 98, 98, 98, 97, 97, 97]\n",
            "[2, 2, 2, 2, 2, 2, 1, 1, 1, 1, 1, 1, 1, 1, 1, 1, 1, 1, 1, 1]\n"
          ]
        }
      ]
    },
    {
      "cell_type": "markdown",
      "metadata": {
        "id": "_OF-Xuj1UrW0"
      },
      "source": [
        "---\n",
        "### Exercise 7 - get statistics (max(), min(), sum() )\n",
        "\n",
        "Write a function which will:\n",
        "*   print the maximum and minimum numbers in the `nums` list  \n",
        "*   print the sum of the `nums` list\n",
        "*   calculate and print the average of the `nums` list (using `len()` to help)"
      ]
    },
    {
      "cell_type": "code",
      "metadata": {
        "id": "9YmYMenZVGod",
        "colab": {
          "base_uri": "https://localhost:8080/"
        },
        "outputId": "32544f39-d52f-459a-a37b-8432bd56f1dc"
      },
      "source": [
        "def print_numbers():\n",
        "\n",
        "  print(\"this is the max nums: \", max(nums));\n",
        "\n",
        "  print(\"this is the min nums: \", min(nums));\n",
        "\n",
        "  print(\"this is the sum of the nums nums: \", sum(nums));\n",
        "\n",
        "  average = sum(nums) // len(nums);\n",
        "\n",
        "  print(\"this is the nums average: \", average);\n",
        "\n",
        "print_numbers();"
      ],
      "execution_count": 5,
      "outputs": [
        {
          "output_type": "stream",
          "name": "stdout",
          "text": [
            "this is the max nums:  100\n",
            "this is the min nums:  1\n",
            "this is the sum of the nums nums:  51500\n",
            "this is the nums average:  51\n"
          ]
        }
      ]
    },
    {
      "cell_type": "markdown",
      "metadata": {
        "id": "Mn4tHQ_KVbHa"
      },
      "source": [
        "---\n",
        "### Exercise 8 - percentage difference\n",
        "\n",
        "Write a function which will:\n",
        "*   generate a new list called **ex8_nums** using `get_num_list()`\n",
        "*   calculate and print the percentage difference between the first number in each list (as a percentage of the number in the nums list) (Hint:  find the difference between the two numbers, divide the difference by the number in `nums` and multiply by 100)\n",
        "*   calculate and print the percentage difference between the last numbers in each list in the same way\n",
        "*   calculate and print the percentage difference between the middle numbers in each list in the same way.\n",
        "*   calculate and print the percentage difference between the sums of each list in the same way"
      ]
    },
    {
      "cell_type": "code",
      "metadata": {
        "id": "nJCQjZIeZL0e",
        "colab": {
          "base_uri": "https://localhost:8080/"
        },
        "outputId": "35935b25-caf1-422c-b88d-a65c5fc04a33"
      },
      "source": [
        "def exercise8():\n",
        "\n",
        "  ex8_nums = [];\n",
        "\n",
        "  for i in get_num_list():\n",
        "\n",
        "    ex8_nums.append(i);\n",
        "\n",
        "  #first nums in the list\n",
        "  first_num1 = ex8_nums[1];\n",
        "\n",
        "  first_num2 = nums[1];\n",
        "\n",
        "  delta_nums = first_num2 - first_num1;\n",
        "\n",
        "  division = delta_nums / len(nums);\n",
        "\n",
        "  percentage = division * 100;\n",
        "\n",
        "  print(\"this is the percentage of the first numbers: \", percentage);\n",
        "\n",
        "  #last in the same list\n",
        "  last_num1 = ex8_nums[-1];\n",
        "\n",
        "  last_num2 = nums[-1];\n",
        "\n",
        "  delta_nums = last_num2 - last_num1;\n",
        "\n",
        "  division = delta_nums / len(nums);\n",
        "\n",
        "  percentage = division * 100;\n",
        "\n",
        "  print(\"this is the percentage of the last numbers: \", percentage);\n",
        "\n",
        "  #middle numbers in the same list\n",
        "  mid_num1 = ex8_nums[500];\n",
        "\n",
        "  mid_num2 = nums[500];\n",
        "\n",
        "  delta_nums = mid_num1 - mid_num2;\n",
        "\n",
        "  division = delta_nums / len(nums);\n",
        "\n",
        "  percentage = division * 100;\n",
        "\n",
        "  print(\"this is the percentage of the middle numbers in the list: \", percentage);\n",
        "\n",
        "  #sum of all numbers in the same list\n",
        "  sum_list1 = sum(ex8_nums);\n",
        "\n",
        "  sum_list2 = sum(nums);\n",
        "\n",
        "  delta_nums = sum_list1 - sum_list2;\n",
        "\n",
        "  division = delta_nums / len(nums);\n",
        "\n",
        "  percentage = division * 100;\n",
        "\n",
        "  print(\"this is the % difference of the two lists: \", percentage);\n",
        "\n",
        "exercise8();"
      ],
      "execution_count": 14,
      "outputs": [
        {
          "output_type": "stream",
          "name": "stdout",
          "text": [
            "this is the percentage of the first numbers:  -3.6999999999999997\n",
            "this is the percentage of the last numbers:  1.9\n",
            "this is the percentage of the middle numbers in the list:  5.3\n",
            "this is the % difference of the two lists:  -32.300000000000004\n"
          ]
        }
      ]
    },
    {
      "cell_type": "markdown",
      "metadata": {
        "id": "HNs3lZmYawFO"
      },
      "source": [
        "---\n",
        "### Exercise 9 - characteristic counts\n",
        "\n",
        "Write a function which will:\n",
        "*  iterate through the `protected_characteristics` tuple and for each **characteristic**:\n",
        "*   *   count the number of occurrences of that `characteristic` in the `characteristics` list\n",
        "*   *   print the `protected_characteristic` and the **count**  \n",
        "\n",
        "Example expected output:\n",
        "\n",
        "age 100  \n",
        "disability 120  \n",
        "gender reassignment 120  \n",
        "marriage and civil partnership 111  \n",
        "pregnancy and maternity 103  \n",
        "race 106  \n",
        "religion or belief 95  \n",
        "sex 110  \n",
        "sexual orientation 113  \n",
        "\n",
        "Extra learning:  you can read [here](https://thispointer.com/python-how-to-pad-strings-with-zero-space-or-some-other-character/) how to justify the printed characteristic so that the output is organised into two columns as shown below:  \n",
        "![tabulated output](https://drive.google.com/uc?id=1CCXfX6K5ZeDefnq7vUsqxCDmqvcfY8Mz)\n",
        "\n",
        "\n",
        "\n"
      ]
    },
    {
      "cell_type": "code",
      "metadata": {
        "id": "GURT11albqUs",
        "colab": {
          "base_uri": "https://localhost:8080/"
        },
        "outputId": "24e56e35-4614-432b-8269-67471a91a12b"
      },
      "source": [
        "def countX(characteristics, x):\n",
        "  count = 0\n",
        "  for i in characteristics:\n",
        "    if (i == x):\n",
        "      count = count + 1\n",
        "  return count\n",
        "\n",
        "print(\"age\", str(countX(characteristics,\"age\")).rjust(30, ' '));\n",
        "print(\"disability\", str(countX(characteristics,\"disability\")).rjust(23, ' '));\n",
        "print(\"gender reassignment\", str(countX(characteristics,\"gender reassignment\")).rjust(14, ' '));\n",
        "print(\"marriage and civil partnership\", str(countX(characteristics,\"marriage and civil partnership\")).rjust(0, ' '));\n",
        "print(\"pregnancy and maternity\", str(countX(characteristics,\"pregnancy and maternity\")).rjust(10, ' '));\n",
        "print(\"race\",str(countX(characteristics,\"race\")).rjust(29, ' '));\n",
        "print(\"religion or belief\",str(countX(characteristics,\"religion or belief\")).rjust(15, ' '));\n",
        "print(\"sex\",str(countX(characteristics,\"sex\")).rjust(30, ' '));\n",
        "print(\"sexual orientation\",str(countX(characteristics,\"sexual orientation\")).rjust(15, ' '));\n"
      ],
      "execution_count": 30,
      "outputs": [
        {
          "output_type": "stream",
          "name": "stdout",
          "text": [
            "age                            291\n",
            "disability                     289\n",
            "gender reassignment            303\n",
            "marriage and civil partnership 306\n",
            "pregnancy and maternity        268\n",
            "race                           276\n",
            "religion or belief             284\n",
            "sex                            278\n",
            "sexual orientation             286\n"
          ]
        }
      ]
    },
    {
      "cell_type": "markdown",
      "metadata": {
        "id": "9Po7yQj-ds38"
      },
      "source": [
        "---\n",
        "### Exercise 10 - characteristics statistics\n",
        "\n",
        "Assuming that the `characteristics` list may have been taken from a study of cases that have been taken to court in relation to the Equality Act.  \n",
        "\n",
        "Write a function which will:\n",
        "\n",
        "*   find the most common characteristic resulting in court action, from this population\n",
        "*   print this in a message, e.g. The characteristic with the highest number of court cases is:  *characteristic*\n",
        "*   print the list of `protected_characteristics`, on one line if possible - see [here](https://www.geeksforgeeks.org/g-fact-25-print-single-multiple-variable-python/)\n",
        "*   ask the user to enter a characteristic that they would like to see statistics on and use a while loop to continue until the user has entered a valid characteristic\n",
        "*   print the characteristic, its frequency and the percentage that this frequency is of the whole population."
      ]
    },
    {
      "cell_type": "code",
      "metadata": {
        "id": "uk_I5z7UgbDs",
        "colab": {
          "base_uri": "https://localhost:8080/"
        },
        "outputId": "518d8373-fbd0-4273-e1c7-44676a29ee79"
      },
      "source": [
        "from collections import Counter\n",
        "\n",
        "def characteristics_statistics():\n",
        "\n",
        "  most_common_char = Counter(characteristics).most_common(1)\n",
        "\n",
        "  print(\"\\n The characteristic with the highest number of court cases is: \", most_common_char)\n",
        "\n",
        "  print(\"\\n These are the available characteristics to consult: \\n\",protected_characteristics, sep = \"    \")\n",
        "\n",
        "  menu_option = \"\"\n",
        "\n",
        "  while menu_option == \"\":\n",
        "\n",
        "    menu_option = input(\"\\n Please enter a valid characteristic: \")\n",
        "\n",
        "    percentage = round(((characteristics.count(menu_option) / len(characteristics)) * 100),2)\n",
        "\n",
        "    if menu_option in protected_characteristics:\n",
        "\n",
        "      print(\"\\n The characteristic\", menu_option, \"has been taken to court\", characteristics.count(menu_option), \"times\", \"(\", percentage, \"% of total cases).\")\n",
        "\n",
        "    else:\n",
        "\n",
        "      print(\"Please enter a valid option!\")\n",
        "\n",
        "      menu_option = \"\"\n",
        "\n",
        "characteristics_statistics()"
      ],
      "execution_count": 54,
      "outputs": [
        {
          "output_type": "stream",
          "name": "stdout",
          "text": [
            "\n",
            " The characteristic with the highest number of court cases is:  [('marriage and civil partnership', 306)]\n",
            "\n",
            " These are the available characteristics to consult: \n",
            "    ('age', 'disability', 'gender reassignment', 'marriage and civil partnership', 'pregnancy and maternity', 'race', 'religion or belief', 'sex', 'sexual orientation')\n",
            "\n",
            " Please enter a valid characteristic: junbdaisn\n",
            "Please enter a valid option!\n",
            "\n",
            " Please enter a valid characteristic: disability\n",
            "\n",
            " The characteristic disability has been taken to court 289 times ( 11.2 % of total cases).\n"
          ]
        }
      ]
    }
  ]
}
